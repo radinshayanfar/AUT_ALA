{
 "cells": [
  {
   "cell_type": "markdown",
   "metadata": {},
   "source": [
    "# Covid-19 total cases prediction\n",
    "## By Radin Shayanfar - 9731032"
   ]
  },
  {
   "cell_type": "code",
   "execution_count": 1,
   "metadata": {},
   "outputs": [],
   "source": [
    "import numpy as np\n",
    "import pandas as pd\n",
    "import matplotlib.pyplot as plt"
   ]
  },
  {
   "cell_type": "code",
   "execution_count": 2,
   "metadata": {},
   "outputs": [],
   "source": [
    "def add_features(X, poly_degree):\n",
    "    ret = np.ones((X.shape[0], 1))\n",
    "    for pow in range(1, poly_degree + 1):\n",
    "        ret = np.concatenate((ret, np.power(X, pow)), axis=1)\n",
    "    return ret\n",
    "\n",
    "def predict(theta, x):\n",
    "    X = add_features(x, poly_degree=2)\n",
    "    return X.dot(theta)\n",
    "\n",
    "def normal_equation(X, y):\n",
    "    theta = np.linalg.inv(X.T.dot(X)).dot(X.T).dot(y)\n",
    "    return theta"
   ]
  },
  {
   "cell_type": "markdown",
   "metadata": {},
   "source": [
    "### Reading CSV file as Pandas DataFrame:"
   ]
  },
  {
   "cell_type": "code",
   "execution_count": 3,
   "metadata": {},
   "outputs": [],
   "source": [
    "cv_data = pd.read_csv('total_cases.csv')[['World']]\n",
    "\n",
    "# cv_data = cv_data[['World']]\n",
    "cv_data.rename(columns={'World': 'y'}, inplace=True)\n",
    "\n",
    "# cv_data.insert(0, '0', 1)\n",
    "cv_data.insert(0, 'x', range(1, len(cv_data) + 1))\n",
    "# cv_data.insert(2, '2', cv_data['1'] ** 2)"
   ]
  },
  {
   "cell_type": "code",
   "execution_count": 4,
   "metadata": {},
   "outputs": [
    {
     "data": {
      "text/html": [
       "<div>\n",
       "<style scoped>\n",
       "    .dataframe tbody tr th:only-of-type {\n",
       "        vertical-align: middle;\n",
       "    }\n",
       "\n",
       "    .dataframe tbody tr th {\n",
       "        vertical-align: top;\n",
       "    }\n",
       "\n",
       "    .dataframe thead th {\n",
       "        text-align: right;\n",
       "    }\n",
       "</style>\n",
       "<table border=\"1\" class=\"dataframe\">\n",
       "  <thead>\n",
       "    <tr style=\"text-align: right;\">\n",
       "      <th></th>\n",
       "      <th>x</th>\n",
       "      <th>y</th>\n",
       "    </tr>\n",
       "  </thead>\n",
       "  <tbody>\n",
       "    <tr>\n",
       "      <th>0</th>\n",
       "      <td>1</td>\n",
       "      <td>27</td>\n",
       "    </tr>\n",
       "    <tr>\n",
       "      <th>1</th>\n",
       "      <td>2</td>\n",
       "      <td>27</td>\n",
       "    </tr>\n",
       "    <tr>\n",
       "      <th>2</th>\n",
       "      <td>3</td>\n",
       "      <td>27</td>\n",
       "    </tr>\n",
       "    <tr>\n",
       "      <th>3</th>\n",
       "      <td>4</td>\n",
       "      <td>44</td>\n",
       "    </tr>\n",
       "    <tr>\n",
       "      <th>4</th>\n",
       "      <td>5</td>\n",
       "      <td>44</td>\n",
       "    </tr>\n",
       "    <tr>\n",
       "      <th>...</th>\n",
       "      <td>...</td>\n",
       "      <td>...</td>\n",
       "    </tr>\n",
       "    <tr>\n",
       "      <th>145</th>\n",
       "      <td>146</td>\n",
       "      <td>5276942</td>\n",
       "    </tr>\n",
       "    <tr>\n",
       "      <th>146</th>\n",
       "      <td>147</td>\n",
       "      <td>5371158</td>\n",
       "    </tr>\n",
       "    <tr>\n",
       "      <th>147</th>\n",
       "      <td>148</td>\n",
       "      <td>5460254</td>\n",
       "    </tr>\n",
       "    <tr>\n",
       "      <th>148</th>\n",
       "      <td>149</td>\n",
       "      <td>5556130</td>\n",
       "    </tr>\n",
       "    <tr>\n",
       "      <th>149</th>\n",
       "      <td>150</td>\n",
       "      <td>5656615</td>\n",
       "    </tr>\n",
       "  </tbody>\n",
       "</table>\n",
       "<p>150 rows × 2 columns</p>\n",
       "</div>"
      ],
      "text/plain": [
       "       x        y\n",
       "0      1       27\n",
       "1      2       27\n",
       "2      3       27\n",
       "3      4       44\n",
       "4      5       44\n",
       "..   ...      ...\n",
       "145  146  5276942\n",
       "146  147  5371158\n",
       "147  148  5460254\n",
       "148  149  5556130\n",
       "149  150  5656615\n",
       "\n",
       "[150 rows x 2 columns]"
      ]
     },
     "execution_count": 4,
     "metadata": {},
     "output_type": "execute_result"
    }
   ],
   "source": [
    "cv_data"
   ]
  },
  {
   "cell_type": "markdown",
   "metadata": {},
   "source": [
    "### Splitting train and test sets:"
   ]
  },
  {
   "cell_type": "code",
   "execution_count": 5,
   "metadata": {},
   "outputs": [],
   "source": [
    "np_array = cv_data.to_numpy()"
   ]
  },
  {
   "cell_type": "code",
   "execution_count": 6,
   "metadata": {},
   "outputs": [],
   "source": [
    "train_X = add_features(np_array[:-7, 0][..., np.newaxis], poly_degree=2)\n",
    "train_Y = np_array[:-7, -1][..., np.newaxis]\n",
    "test_X = np_array[-7:, 0][..., np.newaxis]\n",
    "test_Y = np_array[-7:, -1][..., np.newaxis]"
   ]
  },
  {
   "cell_type": "markdown",
   "metadata": {},
   "source": [
    "### The polynomial coefficients ($\\theta$ array) are:\n",
    "&emsp; $a_{0}$ = 4.992e+05 <br>\n",
    "&emsp; $a_{1}$ = -3.775e+04 <br>\n",
    "&emsp; $a_{2}$ = 4.801e+02 <br>"
   ]
  },
  {
   "cell_type": "code",
   "execution_count": 7,
   "metadata": {},
   "outputs": [
    {
     "data": {
      "text/plain": [
       "array([[ 4.99203886e+05],\n",
       "       [-3.77571866e+04],\n",
       "       [ 4.80176507e+02]])"
      ]
     },
     "execution_count": 7,
     "metadata": {},
     "output_type": "execute_result"
    }
   ],
   "source": [
    "theta = normal_equation(train_X, train_Y)\n",
    "theta"
   ]
  },
  {
   "cell_type": "markdown",
   "metadata": {},
   "source": [
    "### Predicted and actual values of last 7 days:"
   ]
  },
  {
   "cell_type": "code",
   "execution_count": 8,
   "metadata": {},
   "outputs": [
    {
     "data": {
      "text/html": [
       "<div>\n",
       "<style scoped>\n",
       "    .dataframe tbody tr th:only-of-type {\n",
       "        vertical-align: middle;\n",
       "    }\n",
       "\n",
       "    .dataframe tbody tr th {\n",
       "        vertical-align: top;\n",
       "    }\n",
       "\n",
       "    .dataframe thead th {\n",
       "        text-align: right;\n",
       "    }\n",
       "</style>\n",
       "<table border=\"1\" class=\"dataframe\">\n",
       "  <thead>\n",
       "    <tr style=\"text-align: right;\">\n",
       "      <th></th>\n",
       "      <th>Day</th>\n",
       "      <th>Predicted Value</th>\n",
       "      <th>Actual Value</th>\n",
       "      <th>Squared Predict Error</th>\n",
       "    </tr>\n",
       "  </thead>\n",
       "  <tbody>\n",
       "    <tr>\n",
       "      <th>0</th>\n",
       "      <td>144.0</td>\n",
       "      <td>5.019109e+06</td>\n",
       "      <td>5069262.0</td>\n",
       "      <td>2.515317e+09</td>\n",
       "    </tr>\n",
       "    <tr>\n",
       "      <th>1</th>\n",
       "      <td>145.0</td>\n",
       "      <td>5.120123e+06</td>\n",
       "      <td>5175836.0</td>\n",
       "      <td>3.103951e+09</td>\n",
       "    </tr>\n",
       "    <tr>\n",
       "      <th>2</th>\n",
       "      <td>146.0</td>\n",
       "      <td>5.222097e+06</td>\n",
       "      <td>5276942.0</td>\n",
       "      <td>3.007967e+09</td>\n",
       "    </tr>\n",
       "    <tr>\n",
       "      <th>3</th>\n",
       "      <td>147.0</td>\n",
       "      <td>5.325032e+06</td>\n",
       "      <td>5371158.0</td>\n",
       "      <td>2.127645e+09</td>\n",
       "    </tr>\n",
       "    <tr>\n",
       "      <th>4</th>\n",
       "      <td>148.0</td>\n",
       "      <td>5.428926e+06</td>\n",
       "      <td>5460254.0</td>\n",
       "      <td>9.814135e+08</td>\n",
       "    </tr>\n",
       "    <tr>\n",
       "      <th>5</th>\n",
       "      <td>149.0</td>\n",
       "      <td>5.533782e+06</td>\n",
       "      <td>5556130.0</td>\n",
       "      <td>4.994458e+08</td>\n",
       "    </tr>\n",
       "    <tr>\n",
       "      <th>6</th>\n",
       "      <td>150.0</td>\n",
       "      <td>5.639597e+06</td>\n",
       "      <td>5656615.0</td>\n",
       "      <td>2.896019e+08</td>\n",
       "    </tr>\n",
       "  </tbody>\n",
       "</table>\n",
       "</div>"
      ],
      "text/plain": [
       "     Day  Predicted Value  Actual Value  Squared Predict Error\n",
       "0  144.0     5.019109e+06     5069262.0           2.515317e+09\n",
       "1  145.0     5.120123e+06     5175836.0           3.103951e+09\n",
       "2  146.0     5.222097e+06     5276942.0           3.007967e+09\n",
       "3  147.0     5.325032e+06     5371158.0           2.127645e+09\n",
       "4  148.0     5.428926e+06     5460254.0           9.814135e+08\n",
       "5  149.0     5.533782e+06     5556130.0           4.994458e+08\n",
       "6  150.0     5.639597e+06     5656615.0           2.896019e+08"
      ]
     },
     "execution_count": 8,
     "metadata": {},
     "output_type": "execute_result"
    }
   ],
   "source": [
    "last_7_days = np.concatenate((test_X, predict(theta, test_X), test_Y), axis=1)\n",
    "last_7_days_df = pd.DataFrame(data=last_7_days, columns=[\n",
    "    'Day', 'Predicted Value', 'Actual Value'\n",
    "])\n",
    "last_7_days_df['Squared Predict Error'] = (last_7_days_df['Predicted Value'] - last_7_days_df['Actual Value']) ** 2\n",
    "last_7_days_df"
   ]
  },
  {
   "cell_type": "markdown",
   "metadata": {},
   "source": [
    "### Plotted data:"
   ]
  },
  {
   "cell_type": "code",
   "execution_count": 9,
   "metadata": {},
   "outputs": [
    {
     "data": {
      "text/plain": [
       "<Figure size 432x288 with 0 Axes>"
      ]
     },
     "metadata": {},
     "output_type": "display_data"
    },
    {
     "data": {
      "image/png": "[encoded data removed]",
      "text/plain": [
       "<Figure size 864x432 with 1 Axes>"
      ]
     },
     "metadata": {
      "needs_background": "light"
     },
     "output_type": "display_data"
    }
   ],
   "source": [
    "fig = plt.figure()\n",
    "fig = plt.figure(figsize=(12, 6))\n",
    "ax = fig.add_axes([0,0,1,1])\n",
    "\n",
    "ax.scatter(np_array[:, 0], np_array[:, -1], color='r', s=15, label='Actual values')\n",
    "ax.plot(np_array[:, 0][..., np.newaxis], predict(theta, np_array[:, 0][..., np.newaxis]), color='b', label='Predicted values')\n",
    "\n",
    "plt.xlabel('Days since start of Covid-19', fontsize=14)\n",
    "plt.ylabel('Total world cases', fontsize=14)\n",
    "plt.legend(loc=\"upper left\")\n",
    "\n",
    "plt.show()"
   ]
  },
  {
   "cell_type": "code",
   "execution_count": null,
   "metadata": {},
   "outputs": [],
   "source": []
  }
 ],
 "metadata": {
  "kernelspec": {
   "display_name": "Python 3",
   "language": "python",
   "name": "python3"
  },
  "language_info": {
   "codemirror_mode": {
    "name": "ipython",
    "version": 3
   },
   "file_extension": ".py",
   "mimetype": "text/x-python",
   "name": "python",
   "nbconvert_exporter": "python",
   "pygments_lexer": "ipython3",
   "version": "3.8.2"
  }
 },
 "nbformat": 4,
 "nbformat_minor": 4
}
