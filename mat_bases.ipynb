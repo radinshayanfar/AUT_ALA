{
 "cells": [
  {
   "cell_type": "code",
   "execution_count": 1,
   "metadata": {},
   "outputs": [],
   "source": [
    "import numpy as np"
   ]
  },
  {
   "cell_type": "code",
   "execution_count": 106,
   "metadata": {},
   "outputs": [],
   "source": [
    "mat = [[-3, 6, -1, 1, -7], [1, -2, 2, 3, -1], [2, -4, 5, 8, -4]]\n",
    "mat = np.array(mat, dtype=np.double)"
   ]
  },
  {
   "cell_type": "code",
   "execution_count": 139,
   "metadata": {},
   "outputs": [
    {
     "data": {
      "text/plain": [
       "array([[-3.,  6., -1.,  1., -7.],\n",
       "       [ 1., -2.,  2.,  3., -1.],\n",
       "       [ 2., -4.,  5.,  8., -4.]])"
      ]
     },
     "execution_count": 139,
     "metadata": {},
     "output_type": "execute_result"
    }
   ],
   "source": [
    "mat"
   ]
  },
  {
   "cell_type": "code",
   "execution_count": 132,
   "metadata": {},
   "outputs": [],
   "source": [
    "m, n = mat.shape"
   ]
  },
  {
   "cell_type": "code",
   "execution_count": 136,
   "metadata": {},
   "outputs": [],
   "source": [
    "def count_zeros(arr):\n",
    "    zeros = []\n",
    "    arr = np.round(arr, 5)\n",
    "    for row in arr:\n",
    "        for ind, element in enumerate(row):\n",
    "            if element != 0:\n",
    "                zeros.append(ind)\n",
    "                break\n",
    "            elif ind == arr.shape[1] - 1:\n",
    "                zeros.append(ind + 1)\n",
    "                break\n",
    "\n",
    "    return zeros\n",
    "\n",
    "def sort_by_zeros(arr):\n",
    "    zeros = count_zeros(arr)\n",
    "    arr_sorted = arr[np.argsort(zeros)]\n",
    "\n",
    "    return np.sort(zeros), arr_sorted\n",
    "\n",
    "def rr_down(sliced):\n",
    "    m, n = sliced.shape\n",
    "    row_zero = (sliced[0, :] / sliced[0, 0])[..., np.newaxis].T\n",
    "    coefs_mat = np.repeat(a = row_zero, repeats = m - 1, axis = 0) * (-1 * sliced[1:, 0][:, np.newaxis])\n",
    "    sliced[1:, :] += coefs_mat\n",
    "\n",
    "def rr_up(sliced):\n",
    "    m, n = sliced.shape\n",
    "    sliced[-1, :] /= sliced[-1, 0]\n",
    "    row_last = sliced[-1, :][..., np.newaxis].T\n",
    "    coefs_mat = np.repeat(a = row_last, repeats = m - 1, axis = 0) * (-1 * sliced[:-1, 0][:, np.newaxis])\n",
    "    sliced[:-1, :] += coefs_mat\n",
    "\n",
    "def echelon_form(mat):\n",
    "    mat = mat.copy()\n",
    "    for i in range(mat.shape[0] - 1):\n",
    "        sliced = mat[i:, :]\n",
    "        zeros, sliced = sort_by_zeros(sliced)\n",
    "\n",
    "        pivot_position = zeros[0]\n",
    "        rr_down(sliced[:, pivot_position:])\n",
    "        mat[i:, :] = sliced\n",
    "    return mat\n",
    "\n",
    "def reduced_echelon_form(mat):\n",
    "    ef = mat.copy()\n",
    "    zeros = count_zeros(ef)\n",
    "    \n",
    "    m, n = ef.shape\n",
    "    for i in reversed(range(m)):\n",
    "        sliced = ef[:i + 1, :]\n",
    "        \n",
    "        pivot_position = zeros[i]\n",
    "        if pivot_position == n:\n",
    "            continue\n",
    "        \n",
    "        rr_up(sliced[:, pivot_position:])\n",
    "        ef[:i + 1, :] = sliced\n",
    "    return ef"
   ]
  },
  {
   "cell_type": "code",
   "execution_count": 140,
   "metadata": {},
   "outputs": [
    {
     "name": "stdout",
     "output_type": "stream",
     "text": [
      "[[-3.     6.    -1.     1.    -7.   ]\n",
      " [ 0.     0.     1.667  3.333 -3.333]\n",
      " [ 0.     0.     0.     0.    -0.   ]]\n"
     ]
    },
    {
     "data": {
      "text/plain": [
       "[0, 2, 5]"
      ]
     },
     "execution_count": 140,
     "metadata": {},
     "output_type": "execute_result"
    }
   ],
   "source": [
    "ef = echelon_form(mat)\n",
    "print(np.round(ef, 3))\n",
    "zeros = count_zeros(ef)\n",
    "zeros"
   ]
  },
  {
   "cell_type": "code",
   "execution_count": 179,
   "metadata": {},
   "outputs": [
    {
     "name": "stdout",
     "output_type": "stream",
     "text": [
      "[[ 1. -2. -0. -1.  3.]\n",
      " [ 0.  0.  1.  2. -2.]\n",
      " [ 0.  0.  0.  0. -0.]]\n"
     ]
    }
   ],
   "source": [
    "ref = reduced_echelon_form(ef)\n",
    "print(np.round(ref, 3))"
   ]
  },
  {
   "cell_type": "code",
   "execution_count": 145,
   "metadata": {},
   "outputs": [],
   "source": [
    "pivots = np.array(zeros)\n",
    "pivots = pivots[pivots != n]"
   ]
  },
  {
   "cell_type": "code",
   "execution_count": 147,
   "metadata": {},
   "outputs": [
    {
     "data": {
      "text/plain": [
       "array([0, 2])"
      ]
     },
     "execution_count": 147,
     "metadata": {},
     "output_type": "execute_result"
    }
   ],
   "source": [
    "pivots"
   ]
  },
  {
   "cell_type": "code",
   "execution_count": 135,
   "metadata": {},
   "outputs": [
    {
     "data": {
      "text/plain": [
       "array([[-3.        ,  6.        , -1.        ,  1.        , -7.        ],\n",
       "       [ 0.        ,  0.        ,  1.66666667,  3.33333333, -3.33333333]])"
      ]
     },
     "execution_count": 135,
     "metadata": {},
     "output_type": "execute_result"
    }
   ],
   "source": [
    "ef[pivots != n - 1]"
   ]
  },
  {
   "cell_type": "code",
   "execution_count": 189,
   "metadata": {},
   "outputs": [],
   "source": [
    "def get_null_space(ref, pivots):\n",
    "    m, n = ref.shape\n",
    "    null_space = np.zeros((n, n - pivots.shape[0]))\n",
    "    for ref_row_index in range(pivots.shape[0]):\n",
    "        pivot = pivots[ref_row_index]\n",
    "        ref_row = ref[ref_row_index, pivot+1:]\n",
    "        for i, e in enumerate(ref_row[ref_row != 0]):\n",
    "            null_space[pivot, ref_row_index + i] = -1 * e\n",
    "            \n",
    "    col = 0\n",
    "    for row in [i for i in range(n) if i not in pivots.tolist()]:\n",
    "        null_space[row, col] = 1\n",
    "        col += 1\n",
    "    return null_space\n",
    "\n",
    "def get_row_space(ref, pivots):\n",
    "    return ref[:pivots.shape[0], :].T\n",
    "\n",
    "def get_col_space(mat, pivots):\n",
    "    return mat[:, pivots]"
   ]
  },
  {
   "cell_type": "code",
   "execution_count": 184,
   "metadata": {},
   "outputs": [
    {
     "data": {
      "text/plain": [
       "array([[ 2.,  1., -3.],\n",
       "       [ 1.,  0.,  0.],\n",
       "       [ 0., -2.,  2.],\n",
       "       [ 0.,  1.,  0.],\n",
       "       [ 0.,  0.,  1.]])"
      ]
     },
     "execution_count": 184,
     "metadata": {},
     "output_type": "execute_result"
    }
   ],
   "source": [
    "get_null_space(ref, pivots)"
   ]
  },
  {
   "cell_type": "code",
   "execution_count": 186,
   "metadata": {},
   "outputs": [
    {
     "data": {
      "text/plain": [
       "array([[ 1.,  0.],\n",
       "       [-2.,  0.],\n",
       "       [-0.,  1.],\n",
       "       [-1.,  2.],\n",
       "       [ 3., -2.]])"
      ]
     },
     "execution_count": 186,
     "metadata": {},
     "output_type": "execute_result"
    }
   ],
   "source": [
    "get_row_space(ref, pivots)"
   ]
  },
  {
   "cell_type": "code",
   "execution_count": 190,
   "metadata": {},
   "outputs": [
    {
     "data": {
      "text/plain": [
       "array([[-3., -1.],\n",
       "       [ 1.,  2.],\n",
       "       [ 2.,  5.]])"
      ]
     },
     "execution_count": 190,
     "metadata": {},
     "output_type": "execute_result"
    }
   ],
   "source": [
    "get_col_space(mat, pivots)"
   ]
  },
  {
   "cell_type": "code",
   "execution_count": null,
   "metadata": {},
   "outputs": [],
   "source": []
  }
 ],
 "metadata": {
  "kernelspec": {
   "display_name": "Python 3",
   "language": "python",
   "name": "python3"
  },
  "language_info": {
   "codemirror_mode": {
    "name": "ipython",
    "version": 3
   },
   "file_extension": ".py",
   "mimetype": "text/x-python",
   "name": "python",
   "nbconvert_exporter": "python",
   "pygments_lexer": "ipython3",
   "version": "3.8.2"
  }
 },
 "nbformat": 4,
 "nbformat_minor": 4
}
